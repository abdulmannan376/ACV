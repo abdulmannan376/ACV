{
  "nbformat": 4,
  "nbformat_minor": 0,
  "metadata": {
    "colab": {
      "name": "test.ipynb",
      "provenance": [],
      "collapsed_sections": []
    },
    "kernelspec": {
      "name": "python3",
      "display_name": "Python 3"
    }
  },
  "cells": [
    {
      "cell_type": "code",
      "metadata": {
        "id": "WLMaY1j31QJD",
        "colab_type": "code",
        "colab": {}
      },
      "source": [
        "def display_masked(image, mask, image_name=\"image\", mask_name=\"mask\", cells_color=[1, 1, 0], figsize = (20, 20)):\n",
        "    '''\n",
        "    Show image with its segmentation mask\n",
        "    '''\n",
        "    # resize mask as a three channel image for ploting\n",
        "    mask_resized = image.copy()\n",
        "    mask_resized[:,:,0] = mask[:,:,0]\n",
        "    mask_resized[:,:,1] = mask[:,:,0]\n",
        "    mask_resized[:,:,2] = mask[:,:,0]\n",
        "\n",
        "    # create a masked image\n",
        "    mask_ = mask.copy().round().astype(int)\n",
        "    masked_image = image.copy()\n",
        "    masked_image[:,:,0][mask_[:,:,0]==1] = cells_color[0]\n",
        "    masked_image[:,:,1][mask_[:,:,0]==1] = cells_color[1]\n",
        "    masked_image[:,:,2][mask_[:,:,0]==1] = cells_color[2]\n",
        "\n",
        "    plt.figure(figsize = figsize)\n",
        "    plt.subplot(1,3,1)\n",
        "    plt.imshow(image, 'gray')\n",
        "    plt.title(image_name)\n",
        "    plt.axis('off')\n",
        "    plt.subplot(1,3,2)\n",
        "    plt.imshow(mask_resized, 'gray')\n",
        "    plt.title(mask_name)\n",
        "    plt.axis('off')\n",
        "    plt.subplot(1,3,3)\n",
        "    plt.imshow(masked_image, 'gray')\n",
        "    plt.title(\"{} with {} overlapped\".format(image_name, mask_name))\n",
        "    plt.axis('off')\n",
        "    plt.show()\n",
        "    return\n",
        "\n",
        "import numpy as np\n",
        "import cv2\n",
        "\n",
        "model.load_weights(\"Model/[model-unet.h5/model-Segnet.h5/model-deeplabv3plus.h5]\")\n",
        "image_path = \"[path to sample image]\"\n",
        "\n",
        "sample_image = cv2.cvtColor(cv2.imread(image_path), cv2.COLOR_BGR2RGB)\n",
        "sample_image = cv2.resize(sample_image, SegNet_Configs.RESHAPE)\n",
        "sample_image = np.array(sample_image, dtype=\"float\") / 255.0\n",
        "sample_image = np.expand_dims(sample_image, axis=0)\n",
        "\n",
        "prediction = model.predict(sample_image)\n",
        "prediction = prediction.round(0)\n",
        "\n",
        "# display the sample image along with its predicted mask\n",
        "display.display_masked(sample_image[0], prediction[0], \"Tissue Image\", \"Predicted Mask\")"
      ],
      "execution_count": 0,
      "outputs": []
    }
  ]
}